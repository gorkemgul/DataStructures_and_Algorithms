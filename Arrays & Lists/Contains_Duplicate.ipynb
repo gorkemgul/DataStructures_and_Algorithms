{
 "cells": [
  {
   "cell_type": "markdown",
   "id": "c4995693",
   "metadata": {},
   "source": [
    "# Contains Duplicate\n",
    "\n",
    "> We're given a num list and we need to check if the num list has similar numbers. If so, It's gonna return True, otherwise we're gonna get False as an output."
   ]
  },
  {
   "cell_type": "code",
   "execution_count": 1,
   "id": "90f4af29",
   "metadata": {},
   "outputs": [],
   "source": [
    "# let's define a solution function\n",
    "def contains_duplicate_solution1(num_list):\n",
    "    \"\"\"\n",
    "    It takes a list of numbers and checks if it has duplicate numbers.\n",
    "    \n",
    "    Args:\n",
    "        num_list: A list composed of numbers\n",
    "    \n",
    "    Returns:\n",
    "        False or True depends on if it has duplicate numbers or not.\n",
    "    \"\"\"\n",
    "    hashSet = set()\n",
    "    for num in num_list:\n",
    "        if num in hashSet:\n",
    "            return True\n",
    "        hashSet.add(num)\n",
    "    return False"
   ]
  },
  {
   "cell_type": "code",
   "execution_count": 2,
   "id": "eb77c9ab",
   "metadata": {},
   "outputs": [
    {
     "name": "stdout",
     "output_type": "stream",
     "text": [
      "Result1 is False\n",
      "Result2 is True\n",
      "Result3 is True\n",
      "Result4 is False\n"
     ]
    }
   ],
   "source": [
    "# Create a couple of number lists to try our function\n",
    "num_list1 = [1, 2, 3, 4, 5]\n",
    "num_list2 = [1, 1, 2, 3, 4, 5]\n",
    "num_list3 = [1, 2, 3, 4, 5, 5]\n",
    "num_list4 = [1, 2, 3]\n",
    "\n",
    "# let's try our function and see the result\n",
    "result1 = contains_duplicate_solution1(num_list1)\n",
    "result2 = contains_duplicate_solution1(num_list2)\n",
    "result3 = contains_duplicate_solution1(num_list3)\n",
    "result4 = contains_duplicate_solution1(num_list4)\n",
    "\n",
    "# Print results out\n",
    "print(f'Result1 is {result1}\\nResult2 is {result2}\\nResult3 is {result3}\\nResult4 is {result4}')"
   ]
  },
  {
   "cell_type": "code",
   "execution_count": 3,
   "id": "02c92193",
   "metadata": {},
   "outputs": [],
   "source": [
    "# Let's try with an alternative solution by defining another function\n",
    "def contains_duplicate_solution2(num_list):\n",
    "    \"\"\"\n",
    "    It's gonna check if length of num_list and its set version are equal\n",
    "    \n",
    "    Args:\n",
    "        num_list: A list of number\n",
    "        \n",
    "    Returns:\n",
    "        True or False depends on if the length of the num_list equal of the length of its set version \n",
    "    \"\"\"\n",
    "    return len(num_list) != len(set(num_list))"
   ]
  },
  {
   "cell_type": "code",
   "execution_count": 4,
   "id": "4dfa4c09",
   "metadata": {},
   "outputs": [],
   "source": [
    "# Again let's create a couple of number lists to try our second solution\n",
    "num_list5 = [5, 12, 13]\n",
    "num_list6 = [6, 8, 10, 10]\n",
    "num_list7 = [8, 15, 15, 17]\n",
    "num_list8 = [3, 3, 4, 5]\n",
    "\n",
    "# we could define a function to print our results out this time.\n",
    "def print_results(num_list, function):\n",
    "    \"\"\"\n",
    "    Takes a list of numbers and checks their result by using a function\n",
    "    \n",
    "    Args: \n",
    "        num_list: a list of numbers\n",
    "        function: a solution function of contains duplicate problem\n",
    "    \n",
    "    Returns:\n",
    "        True or False depends on their results.\n",
    "    \"\"\"\n",
    "    result = function(num_list)\n",
    "    print(f'Result of our given list: {result}')"
   ]
  },
  {
   "cell_type": "code",
   "execution_count": 5,
   "id": "59c08114",
   "metadata": {},
   "outputs": [
    {
     "name": "stdout",
     "output_type": "stream",
     "text": [
      "Result of our given list: False\n",
      "Result of our given list: True\n",
      "Result of our given list: True\n",
      "Result of our given list: True\n"
     ]
    }
   ],
   "source": [
    "# Let's try our result function on all the lists\n",
    "print_results(num_list = num_list5, function = contains_duplicate_solution2)\n",
    "print_results(num_list6, contains_duplicate_solution2)\n",
    "print_results(num_list7, contains_duplicate_solution2)\n",
    "print_results(num_list8, contains_duplicate_solution2)"
   ]
  }
 ],
 "metadata": {
  "kernelspec": {
   "display_name": "Python 3 (ipykernel)",
   "language": "python",
   "name": "python3"
  },
  "language_info": {
   "codemirror_mode": {
    "name": "ipython",
    "version": 3
   },
   "file_extension": ".py",
   "mimetype": "text/x-python",
   "name": "python",
   "nbconvert_exporter": "python",
   "pygments_lexer": "ipython3",
   "version": "3.9.12"
  }
 },
 "nbformat": 4,
 "nbformat_minor": 5
}
